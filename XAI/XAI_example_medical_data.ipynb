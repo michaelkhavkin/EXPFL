{
 "cells": [
  {
   "cell_type": "code",
   "execution_count": 3,
   "metadata": {},
   "outputs": [],
   "source": [
    "from models import CNN\n",
    "import torch\n",
    "import torch.nn.functional as F\n",
    "from torchvision import models, transforms\n",
    "import numpy as np\n",
    "import cv2\n",
    "from PIL import Image\n",
    "import utils\n",
    "import Clients\n",
    "import os\n",
    "import sys\n",
    "import DataManager.datamanager as dm\n",
    "from pytorch_grad_cam import GradCAM\n",
    "from pytorch_grad_cam.utils.image import show_cam_on_image\n",
    "import matplotlib.pyplot as plt\n",
    "from Clients.naive import NaiveClient\n",
    "from argparse import Namespace\n",
    "from Clients.base import BaseClient\n",
    "import torch.nn as nn\n"
   ]
  },
  {
   "cell_type": "code",
   "execution_count": 2,
   "metadata": {},
   "outputs": [
    {
     "name": "stdout",
     "output_type": "stream",
     "text": [
      "c:\\Users\\user\\My Drive\\PhD\\Projects\\YONSEI-TAU FL collaboration\\EXPFL\n"
     ]
    }
   ],
   "source": [
    "import os\n",
    "print(os.getcwd())\n",
    "os.chdir(\"..//\")\n",
    "print(os.getcwd())"
   ]
  },
  {
   "cell_type": "code",
   "execution_count": 5,
   "metadata": {},
   "outputs": [],
   "source": [
    "trainset, testset = dm.ECGHeartbeatCategorization()\n",
    "\n",
    "testloader = torch.utils.data.DataLoader(trainset, batch_size=32, shuffle=False, drop_last=False)\n",
    "trainloader = torch.utils.data.DataLoader(testset, batch_size=32, shuffle=False, drop_last=False)\n",
    "for idx, (data, target) in enumerate(testloader):\n",
    "    if idx == 0:\n",
    "        input_tensor = data\n",
    "        break\n",
    "model = CNN(n_class=5)"
   ]
  },
  {
   "cell_type": "code",
   "execution_count": null,
   "metadata": {},
   "outputs": [],
   "source": [
    "\n",
    "%tb\n",
    "\n",
    "args = Namespace(exp_name='EXP', model='CNN', dataset='ECG', optimizer='SGD', lr=1e-3, decay=1e-4, batch_size=64, seed=0)\n",
    "client = BaseClient(args, 'Naive')\n",
    "client = NaiveClient(args, 'Naive', dm.ECGHeartbeatCategorization)\n",
    "\n",
    "client.model = utils.build_model(args)\n",
    "client.model.to(client.device)\n",
    "client.criterion   = nn.CrossEntropyLoss()\n",
    "client.optimizer   = torch.optim.Adam(client.model.parameters(), lr=args.lr)\n",
    "client.trainloader = torch.utils.data.DataLoader(client.trainset, batch_size=args.batch_size, shuffle=True , drop_last=True )\n",
    "client.testloader  = torch.utils.data.DataLoader(client.testset , batch_size=args.batch_size, shuffle=False, drop_last=False)\n",
    "\n",
    "for epoch in range(10):\n",
    "    client.train()\n",
    "    client.test()\n",
    "model = client.model\n",
    "\n",
    "for idx, (data, target) in enumerate(client.testloader):\n",
    "    if idx == 0:\n",
    "        input_tensor = data\n",
    "        break"
   ]
  },
  {
   "cell_type": "code",
   "execution_count": null,
   "metadata": {},
   "outputs": [],
   "source": [
    "cam = GradCAM(model=model, target_layers=[model.conv1])\n",
    "grayscale_cams = cam(input_tensor=input_tensor)\n",
    "\n",
    "fig, axes = plt.subplots(3, 10, figsize=(20, 4))\n",
    "for i in range(3):\n",
    "    grayscale_cam = grayscale_cams[i, :]\n",
    "    rgb_img = np.array(data[i].permute(1, 2, 0))\n",
    "\n",
    "    # Plot figures\n",
    "    visualization = show_cam_on_image(rgb_img, grayscale_cam, use_rgb=True)\n",
    "    axes[0,i].imshow(rgb_img, cmap='gray')\n",
    "    axes[0,i].set_xticks([])\n",
    "    axes[0,i].set_yticks([])\n",
    "    axes[1,i].imshow(grayscale_cam)\n",
    "    axes[1,i].set_xticks([])\n",
    "    axes[1,i].set_yticks([])\n",
    "    axes[2,i].imshow(visualization)\n",
    "    axes[2,i].set_xticks([])\n",
    "    axes[2,i].set_yticks([])\n",
    "plt.tight_layout()\n",
    "plt.show()"
   ]
  }
 ],
 "metadata": {
  "kernelspec": {
   "display_name": "Python 3",
   "language": "python",
   "name": "python3"
  },
  "language_info": {
   "codemirror_mode": {
    "name": "ipython",
    "version": 3
   },
   "file_extension": ".py",
   "mimetype": "text/x-python",
   "name": "python",
   "nbconvert_exporter": "python",
   "pygments_lexer": "ipython3",
   "version": "3.9.19"
  }
 },
 "nbformat": 4,
 "nbformat_minor": 2
}
